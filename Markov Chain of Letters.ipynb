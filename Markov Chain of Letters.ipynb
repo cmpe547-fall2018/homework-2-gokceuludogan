{
 "cells": [
  {
   "cell_type": "markdown",
   "metadata": {},
   "source": [
    "Name: Gökçe Uludoğan\n",
    "\n",
    "I hereby declare that I observed the honour code of the university when preparing the homework."
   ]
  },
  {
   "cell_type": "markdown",
   "metadata": {},
   "source": [
    "## Pr?gr?mm?ng?H?m?w?rk\n",
    "\n",
    "In this exercise we model a string of text using a Markov(1) model. For simplicity we only consider letters 'a-z'. Capital letters 'A-Z' are mapped to the corresponding ones. All remaining letters, symbols, numbers, including spaces, are denoted by '.'.\n",
    "\n",
    "\n",
    "We have a probability table $T$ where $T_{i,j} = p(x_t = j | x_{t-1} = i)$  transition model of letters in English text for $t=1,2 \\dots N$. Assume that the initial letter in a string is always a space denoted as $x_0 = \\text{'.'}$. Such a model where the probability table is always the same is sometimes called a stationary model.\n",
    "\n",
    "1. For a given $N$, write a program to sample random strings with letters $x_1, x_2, \\dots, x_N$ from $p(x_{1:N}|x_0)$\n",
    "1. Now suppose you are given strings with missing letters, where each missing letter is denoted by a question mark (or underscore, as below). Implement a method, that samples missing letters conditioned on observed ones, i.e., samples from $p(x_{-\\alpha}|x_{\\alpha})$ where $\\alpha$ denotes indices of observed letters. For example, if the input is 't??.', we have $N=4$ and\n",
    "$x_1 = \\text{'t'}$ and $x_4 = \\text{'.'}$, $\\alpha=\\{1,4\\}$ and $-\\alpha=\\{2,3\\}$. Your program may possibly generate the strings 'the.', 'twi.', 'tee.', etc. Hint: make sure to make use all data given and sample from the correct distribution. Implement the method and print the results for the test strings below. \n",
    "1. Describe a method for filling in the gaps by estimating the most likely letter for each position. Hint: you need to compute\n",
    "$$\n",
    "x_{-\\alpha}^* = \\arg\\max_{x_{-\\alpha}} p(x_{-\\alpha}|x_{\\alpha})\n",
    "$$\n",
    "Implement the method and print the results for the following test strings along with the log-probability  $\\log p(x_{-\\alpha}^*,x_{\\alpha})$.\n",
    "1. Discuss how you can improve the model to get better estimations."
   ]
  },
  {
   "cell_type": "code",
   "execution_count": 1,
   "metadata": {},
   "outputs": [],
   "source": [
    "test_strings = ['th__br__n.f_x.', '_u_st__n_.to_be._nsw_r__','i__at_._a_h_n_._e_r_i_g','q___t.___z._____t.__.___.__.']"
   ]
  },
  {
   "cell_type": "markdown",
   "metadata": {},
   "source": [
    "Hint: The code below loads a table of transition probabilities for English text."
   ]
  },
  {
   "cell_type": "code",
   "execution_count": 2,
   "metadata": {
    "scrolled": true
   },
   "outputs": [
    {
     "name": "stdout",
     "output_type": "stream",
     "text": [
      "Example\n"
     ]
    },
    {
     "data": {
      "text/latex": [
       "$p(x_t = \\text{'u'} | x_{t-1} = \\text{'q'})$"
      ],
      "text/plain": [
       "<IPython.core.display.Latex object>"
      ]
     },
     "metadata": {},
     "output_type": "display_data"
    },
    {
     "name": "stdout",
     "output_type": "stream",
     "text": [
      "0.9949749\n"
     ]
    },
    {
     "data": {
      "text/latex": [
       "$p(x_t | x_{t-1} = \\text{'a'})$"
      ],
      "text/plain": [
       "<IPython.core.display.Latex object>"
      ]
     },
     "metadata": {},
     "output_type": "display_data"
    },
    {
     "name": "stdout",
     "output_type": "stream",
     "text": [
      "a 0.0002835\n",
      "b 0.0228302\n",
      "c 0.0369041\n",
      "d 0.0426290\n",
      "e 0.0012216\n",
      "f 0.0075739\n",
      "g 0.0171385\n",
      "h 0.0014659\n",
      "i 0.0372661\n",
      "j 0.0002353\n",
      "k 0.0110124\n",
      "l 0.0778259\n",
      "m 0.0260757\n",
      "n 0.2145354\n",
      "o 0.0005459\n",
      "p 0.0195213\n",
      "q 0.0001749\n",
      "r 0.1104770\n",
      "s 0.0934290\n",
      "t 0.1317960\n",
      "u 0.0098029\n",
      "v 0.0306574\n",
      "w 0.0088799\n",
      "x 0.0009562\n",
      "y 0.0233701\n",
      "z 0.0018701\n",
      ". 0.0715219\n"
     ]
    }
   ],
   "source": [
    "import csv\n",
    "from IPython.display import display, Latex\n",
    "\n",
    "alphabet = [chr(i+ord('a')) for i in range(26)]\n",
    "alphabet.append('.')\n",
    "letter2idx = {c:i for i,c in enumerate(alphabet)}\n",
    "\n",
    "T = []\n",
    "with open('transitions.csv') as csvfile:\n",
    "    reader = csv.reader(csvfile, delimiter=',')\n",
    "    for row in reader:\n",
    "        T.append(row)\n",
    "\n",
    "print('Example')\n",
    "## p(x_t = 'u' | x_{t-1} = 'q')\n",
    "display(Latex(r\"$p(x_t = \\text{'u'} | x_{t-1} = \\text{'q'})$\"))\n",
    "print(T[letter2idx['q']][letter2idx['u']])\n",
    "display(Latex(r\"$p(x_t | x_{t-1} = \\text{'a'})$\"))\n",
    "for c,p in zip(alphabet,T[letter2idx['a']]):\n",
    "    print(c,p)"
   ]
  },
  {
   "cell_type": "code",
   "execution_count": 558,
   "metadata": {},
   "outputs": [],
   "source": [
    "import numpy as np\n",
    "import random\n",
    "import functools\n",
    "import re\n",
    "import itertools\n",
    "import math\n",
    "t_matrix = np.matrix(T)"
   ]
  },
  {
   "cell_type": "code",
   "execution_count": 84,
   "metadata": {
    "scrolled": true
   },
   "outputs": [
    {
     "data": {
      "text/plain": [
       "'indic'"
      ]
     },
     "execution_count": 84,
     "metadata": {},
     "output_type": "execute_result"
    }
   ],
   "source": [
    "def generate_string(N):\n",
    "    generated_string = '.'\n",
    "    for i in range(N):\n",
    "        cdf = np.cumsum(np.asarray(t_matrix[letter2idx[generated_string[-1]]], dtype=float))\n",
    "        rand_value = random.uniform(0, cdf[-2])\n",
    "        letter_ind = np.where( cdf > rand_value )[0].min()\n",
    "        generated_string +=  alphabet[letter_ind]\n",
    "    return generated_string[1:]    \n",
    "generate_string(5)            "
   ]
  },
  {
   "cell_type": "code",
   "execution_count": 442,
   "metadata": {},
   "outputs": [],
   "source": [
    "def fill_string(string_incomplete, allow_space=False):\n",
    "    string_incomplete = '.' + string_incomplete\n",
    "    it = re.finditer(r\"[_?]+\", string_incomplete)\n",
    "    missing_sequences = [(m.start(0), m.end()) for m in it]\n",
    "    missing_starts = np.array([x for x, y in missing_sequences])\n",
    "    missing_ends = np.array([y for x, y in missing_sequences])\n",
    "    generated_string = ''\n",
    "    str_len = len(string_incomplete)\n",
    "    missing = False\n",
    "    for i in range(str_len):\n",
    "        #print(\"current\", string_incomplete[i])\n",
    "        if i in missing_ends:\n",
    "            missing = False\n",
    "        elif i in missing_starts:\n",
    "            missing = True\n",
    "        if missing:\n",
    "            #print(i)\n",
    "            left_char_ind = letter2idx[generated_string[i-1]]\n",
    "            left_prob = t_matrix[left_char_ind]\n",
    "            end_ind = min(missing_ends[missing_ends > i])\n",
    "            right_char_ind = letter2idx[string_incomplete[end_ind] if len(string_incomplete) > end_ind else '.']\n",
    "            right_prob = t_matrix[:, right_char_ind]\n",
    "            no_mult = end_ind - i - 1\n",
    "            if no_mult == 0:\n",
    "                missing_prob = np.ones(t_matrix.shape)\n",
    "            else:    \n",
    "                missing_prob = functools.reduce(np.dot, [t_matrix] * (no_mult))\n",
    "            if len(string_incomplete) > end_ind:    \n",
    "                prob = np.multiply(right_prob.T , left_prob) / missing_prob[left_char_ind, right_char_ind]\n",
    "            else:\n",
    "                prob = np.divide(left_prob, missing_prob[left_char_ind])\n",
    "            cdf = np.cumsum(np.asarray(prob, dtype=float))\n",
    "            # allow '.' for filling missing char or not. \n",
    "            if allow_space:\n",
    "                last_ind = -1\n",
    "            else:\n",
    "                last_ind = -2\n",
    "            rand_value = random.uniform(0, cdf[last_ind])\n",
    "            letter_ind = np.where( cdf > rand_value )[0].min()\n",
    "            generated_string +=  alphabet[letter_ind]\n",
    "        else:\n",
    "            generated_string += string_incomplete[i]\n",
    "\n",
    "    return generated_string[1:]"
   ]
  },
  {
   "cell_type": "code",
   "execution_count": 512,
   "metadata": {},
   "outputs": [
    {
     "name": "stdout",
     "output_type": "stream",
     "text": [
      "String with missing chars:\t\t th__br__n.f_x.\n",
      "Generated string without spaces:\t thambrain.fix.\n",
      "Generated string with spaces:\t\t tho.brorn.fex.\n",
      "String with missing chars:\t\t _u_st__n_.to_be._nsw_r__\n",
      "Generated string without spaces:\t ouisturno.tombe.answerra\n",
      "Generated string with spaces:\t\t cu.stadng.to.be.answhrwh\n",
      "String with missing chars:\t\t i__at_._a_h_n_._e_r_i_g\n",
      "Generated string without spaces:\t imbato.hathand.retrning\n",
      "Generated string with spaces:\t\t il.ath.cashind.te.rding\n",
      "String with missing chars:\t\t q___t.___z._____t.__.___.__.\n",
      "Generated string without spaces:\t quect.rirz.ouasst.an.ate.sh.\n",
      "Generated string with spaces:\t\t qun.t.antz..s.ist.dg.ty..ou.\n"
     ]
    }
   ],
   "source": [
    "for string_incomplete in test_strings:\n",
    "    print(\"String with missing chars:\\t\\t\", string_incomplete)\n",
    "    print(\"Generated string without spaces:\\t\", fill_string(string_incomplete))\n",
    "    print(\"Generated string with spaces:\\t\\t\", fill_string(string_incomplete, allow_space=True))"
   ]
  },
  {
   "cell_type": "code",
   "execution_count": 572,
   "metadata": {},
   "outputs": [],
   "source": [
    "def most_likely(string_incomplete, allow_space=False):\n",
    "    t_matrix[t_matrix == 0] = 1e-6\n",
    "    if allow_space:\n",
    "        letter_list = alphabet\n",
    "    else:\n",
    "        letter_list = alphabet[:-1]\n",
    "    string_incomplete = '.' + string_incomplete\n",
    "    it = re.finditer(r\"[_?]+\", string_incomplete)\n",
    "    missing_sequences = [(m.start(0), m.end()) for m in it]\n",
    "    total_likelihood = 0.0\n",
    "    most_likely_str = ''\n",
    "    last = 0\n",
    "    for missing_start, missing_end in missing_sequences:\n",
    "        most_likely_str += string_incomplete[last:missing_start] \n",
    "        last = missing_end\n",
    "        no_of_char = missing_end - missing_start\n",
    "        left_char = string_incomplete[missing_start-1]\n",
    "        right_char = string_incomplete[missing_end] if missing_end < len(string_incomplete) else ''\n",
    "        seq_probs = {}\n",
    "        for sequence in itertools.product(letter_list, repeat=no_of_char):\n",
    "            seq_total = left_char + ''.join(sequence) + right_char\n",
    "            probability = sum([math.log(t_matrix[letter2idx[char], letter2idx[seq_total[index + 1]]]) for index, char in enumerate(seq_total) if index < len(seq_total) - 1])\n",
    "            #print(sequence, str(probability))\n",
    "            seq_probs[''.join(sequence)] = probability \n",
    "        max_likelihood = sorted(seq_probs.items(), key=lambda item: item[1], reverse=True)[0] \n",
    "        total_likelihood += max_likelihood[1]\n",
    "        most_likely_str += max_likelihood[0]\n",
    "    most_likely_str += string_incomplete[last:]    \n",
    "    return most_likely_str[1:], total_likelihood"
   ]
  },
  {
   "cell_type": "code",
   "execution_count": 575,
   "metadata": {},
   "outputs": [
    {
     "name": "stdout",
     "output_type": "stream",
     "text": [
      "Test string\t th__br__n.f_x.\n",
      "Most likely\t the.br.an.fex.\n",
      "Log probability\t -17.141135970996658\n",
      "-------------------------------\n",
      "Test string\t _u_st__n_.to_be._nsw_r__\n",
      "Most likely\t oursthend.to.be.answere.\n",
      "Log probability\t -31.549808199783044\n",
      "-------------------------------\n",
      "Test string\t i__at_._a_h_n_._e_r_i_g\n",
      "Most likely\t in.ath.wathend.he.r.ing\n",
      "Log probability\t -37.44445564208814\n",
      "-------------------------------\n",
      "Test string\t q___t.___z._____t.__.___.__.\n",
      "Most likely\t qus.t.herz.thed.t.he.the.he.\n",
      "Log probability\t -38.50641808973078\n",
      "-------------------------------\n"
     ]
    }
   ],
   "source": [
    "for string in test_strings:\n",
    "    print('Test string\\t', string)\n",
    "    most_likely_str, prob = most_likely(string, allow_space=True)\n",
    "    print('Most likely\\t', most_likely_str)\n",
    "    print('Log probability\\t', str(prob))\n",
    "    print('-------------------------------')"
   ]
  },
  {
   "cell_type": "markdown",
   "metadata": {},
   "source": [
    "### Improvements\n",
    "\n",
    "* \n",
    "\n",
    "*\n",
    "\n",
    "*"
   ]
  }
 ],
 "metadata": {
  "kernelspec": {
   "display_name": "Python 3",
   "language": "python",
   "name": "python3"
  },
  "language_info": {
   "codemirror_mode": {
    "name": "ipython",
    "version": 3
   },
   "file_extension": ".py",
   "mimetype": "text/x-python",
   "name": "python",
   "nbconvert_exporter": "python",
   "pygments_lexer": "ipython3",
   "version": "3.6.5"
  }
 },
 "nbformat": 4,
 "nbformat_minor": 1
}
